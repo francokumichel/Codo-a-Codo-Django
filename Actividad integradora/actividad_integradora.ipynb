{
  "nbformat": 4,
  "nbformat_minor": 0,
  "metadata": {
    "colab": {
      "provenance": [],
      "authorship_tag": "ABX9TyPSRrVtYMNeVvAZ2EVu/ff8",
      "include_colab_link": true
    },
    "kernelspec": {
      "name": "python3",
      "display_name": "Python 3"
    },
    "language_info": {
      "name": "python"
    }
  },
  "cells": [
    {
      "cell_type": "markdown",
      "metadata": {
        "id": "view-in-github",
        "colab_type": "text"
      },
      "source": [
        "<a href=\"https://colab.research.google.com/github/francokumichel/Codo-a-Codo-Django/blob/main/Actividad%20integradora/actividad_integradora.ipynb\" target=\"_parent\"><img src=\"https://colab.research.google.com/assets/colab-badge.svg\" alt=\"Open In Colab\"/></a>"
      ]
    },
    {
      "cell_type": "markdown",
      "source": [
        "#Ejercicios integradores para revisar en la clase 7"
      ],
      "metadata": {
        "id": "JOjILKY-uSMU"
      }
    },
    {
      "cell_type": "markdown",
      "source": [
        "##Ejercicio 1\n",
        "Escribir una función que calcule el máximo común divisor entre dos números\n"
      ],
      "metadata": {
        "id": "7k6cpnHtuoR6"
      }
    },
    {
      "cell_type": "code",
      "source": [
        "def mcd(a,b):\n",
        "    if(b == 0):\n",
        "        return a\n",
        "    else:\n",
        "        return mcd(b, a % b)\n",
        "\n",
        "a = int(input(\"Ingresa el primer número: \"))\n",
        "b = int(input(\"Ingresa el segundo número: \"))\n",
        "\n",
        "resultado = mcd(a, b)\n",
        "print(f\"El máximo común divisor entre {a} y {b} es: {resultado}\")\n"
      ],
      "metadata": {
        "colab": {
          "base_uri": "https://localhost:8080/"
        },
        "id": "jXB-fewzu-jE",
        "outputId": "cdd3ddbd-839a-4ca8-e86d-09300d1b56be"
      },
      "execution_count": 15,
      "outputs": [
        {
          "output_type": "stream",
          "name": "stdout",
          "text": [
            "Ingresa el primer número: 100\n",
            "Ingresa el segundo número: 25\n",
            "El máximo común divisor entre 100 y 25 es: 25\n"
          ]
        }
      ]
    },
    {
      "cell_type": "markdown",
      "source": [
        "###Ejercicio 3\n",
        "\n",
        "Escribir un programa que reciba una cadena de caracteres y devuelva un diccionario con\n",
        "cada palabra que contiene y la cantidad de veces que aparece (frecuencia)."
      ],
      "metadata": {
        "id": "Z5pKbY4yQ2pt"
      }
    },
    {
      "cell_type": "code",
      "source": [
        "def contador_palabras(cadena):\n",
        "    lista_palabras = cadena.split()\n",
        "    return {palabra: lista_palabras.count(palabra) for palabra in lista_palabras}\n",
        "\n",
        "cadena = input(\"Ingrese una cadena de texto: \")\n",
        "print(contador_palabras(cadena))"
      ],
      "metadata": {
        "colab": {
          "base_uri": "https://localhost:8080/"
        },
        "id": "qV2b4himNmKO",
        "outputId": "23b0dceb-9d7f-4b43-d8c3-ecad6e8826c5"
      },
      "execution_count": 17,
      "outputs": [
        {
          "output_type": "stream",
          "name": "stdout",
          "text": [
            "Ingrese una cadena de texto: pipo pipa papa pipo pipo papa\n",
            "{'pipo': 3, 'pipa': 1, 'papa': 2}\n"
          ]
        }
      ]
    },
    {
      "cell_type": "markdown",
      "source": [
        "###Ejercicio 4\n",
        "\n",
        "Escribir una función que reciba una cadena de caracteres y devuelva un diccionario con cada palabra que contiene y la cantidad de veces que aparece (frecuencia). Escribir otra función que reciba el diccionario generado con la función anterior y devuelva una tupla con la palabra más repetida y su frecuencia."
      ],
      "metadata": {
        "id": "wLo4ZoudRITg"
      }
    },
    {
      "cell_type": "code",
      "source": [
        "def palabra_mas_repetida_tupla(dict):\n",
        "    max_rep = max(dict.keys(), key=lambda x: dict[x])\n",
        "    return (max_rep, dict[max_rep])\n",
        "\n",
        "cadena = input(\"Ingrese una cadena de texto: \")\n",
        "dict = contador_palabras(cadena)\n",
        "print(palabra_mas_repetida_tupla(dict))\n"
      ],
      "metadata": {
        "id": "-bGXcrR7RKkk",
        "colab": {
          "base_uri": "https://localhost:8080/"
        },
        "outputId": "327d54ff-fd10-4d30-a355-11ee8bd1b0c7"
      },
      "execution_count": 10,
      "outputs": [
        {
          "output_type": "stream",
          "name": "stdout",
          "text": [
            "Ingrese una cadena de texto: pipo pipa pipo\n",
            "('pipo', 2)\n"
          ]
        }
      ]
    },
    {
      "cell_type": "markdown",
      "source": [
        "###Ejercicio 5\n",
        "\n",
        "Sabiendo que ValueError es la excepción que se lanza cuando no podemos convertir una cadena de texto en su valor numérico, escriba una función get_int() que lea un valor entero del usuario y lo devuelva, iterando mientras el valor no sea correcto. Intente resolver el ejercicio tanto de manera iterativa como recursiva."
      ],
      "metadata": {
        "id": "dC8AVp_wy1qs"
      }
    },
    {
      "cell_type": "code",
      "source": [
        "# Forma iterativa\n",
        "def get_int_iter():\n",
        "    while True:\n",
        "        try:\n",
        "            valor = int(input(\"Ingresa un valor entero: \"))\n",
        "            return valor\n",
        "        except ValueError:\n",
        "            print(\"El valor ingresado no es un entero, intentelo nuevamente.\")\n",
        "\n",
        "valor = get_int_iter()\n",
        "print(f\"Usted ingreso el valor {valor}\")\n",
        "\n",
        "# Forma recursiva\n",
        "def get_int_rec():\n",
        "      try:\n",
        "          valor = int(input(\"Ingresa un valor entero: \"))\n",
        "          return valor\n",
        "      except ValueError:\n",
        "          print(\"El valor ingresado no es un entero, intentelo nuevamente.\")\n",
        "          return get_int_rec()\n",
        "\n",
        "valor = get_int_iter()\n",
        "print(f\"Usted ingreso el valor {valor}\")\n"
      ],
      "metadata": {
        "colab": {
          "base_uri": "https://localhost:8080/"
        },
        "id": "vusb2CN2TWJ5",
        "outputId": "77c6d508-f18e-4e72-a74d-a8feda54b2c1"
      },
      "execution_count": 21,
      "outputs": [
        {
          "output_type": "stream",
          "name": "stdout",
          "text": [
            "Ingresa un valor entero: 123\n",
            "Usted ingreso el valor 123\n",
            "Ingresa un valor entero: ef\n",
            "El valor ingresado no es un entero, intentelo nuevamente.\n",
            "Ingresa un valor entero: 123\n",
            "Usted ingreso el valor 123\n"
          ]
        }
      ]
    },
    {
      "cell_type": "markdown",
      "source": [
        "###Ejercicio 6\n",
        "\n",
        "Crear una clase llamada Persona. Sus atributos son: nombre, edad y DNI. Construya los siguientes métodos para la clase:\n",
        "- Un constructor, donde los datos pueden estar vacíos.\n",
        "- Los setters y getters para cada uno de los atributos. Hay que validar las entradas de datos.\n",
        "- mostrar(): Muestra los datos de la persona.\n",
        "- Es_mayor_de_edad(): Devuelve un valor lógico indicando si es mayor de edad."
      ],
      "metadata": {
        "id": "Nck6kcv1EPII"
      }
    },
    {
      "cell_type": "code",
      "source": [
        "class Persona:\n",
        "    def __init__(self, nombre=\"\", edad=0, DNI=0):\n",
        "        self.__nombre = nombre\n",
        "        self.__edad = edad\n",
        "        self.__DNI = DNI\n",
        "\n",
        "    def set_nombre(self, nombre):\n",
        "        self.__nombre = nombre\n",
        "\n",
        "    def get_nombre(self):\n",
        "        return self.__nombre\n",
        "\n",
        "    def set_edad(self):\n",
        "        edad = get_int_rec()\n",
        "        self.__edad = edad\n",
        "\n",
        "    def get_edad(self):\n",
        "        return self.__edad\n",
        "\n",
        "    def set_DNI(self):\n",
        "        DNI = get_int_rec()\n",
        "        self.__DNI = DNI\n",
        "\n",
        "    def get_DNI(self):\n",
        "        return self.__DNI\n",
        "\n",
        "    def mostrar(self):\n",
        "        return f\"Nombre: {self.__nombre}\\nEdad: {self.__edad}\\nDNI: {self.__DNI}\"\n",
        "\n",
        "    def es_mayor_de_edad(self) -> bool:\n",
        "        return self.__edad >= 18\n",
        "\n",
        "persona = Persona(\"Franco Kumichel\", 26, 49958380)\n",
        "print(persona.mostrar())\n",
        ""
      ],
      "metadata": {
        "colab": {
          "base_uri": "https://localhost:8080/"
        },
        "id": "YG92WLdrEzEb",
        "outputId": "4ec4bc2a-894f-4325-97ea-efb6c0e961f9"
      },
      "execution_count": 5,
      "outputs": [
        {
          "output_type": "stream",
          "name": "stdout",
          "text": [
            "Nombre: Franco Kumichel\n",
            "Edad: 26\n",
            "DNI: 49958380\n"
          ]
        }
      ]
    },
    {
      "cell_type": "markdown",
      "source": [
        "###Ejercicio 7\n",
        "\n",
        "Crea una clase llamada Cuenta que tendrá los siguientes atributos: titular (que es una persona) y cantidad (puede tener decimales). El titular será obligatorio y la cantidad es opcional. Crear los siguientes métodos para la clase:\n",
        "- Un constructor, donde los datos pueden estar vacíos.\n",
        "- Los setters y getters para cada uno de los atributos. El atributo no se puede modificar directamente, sólo ingresando o retirando dinero.\n",
        "- mostrar(): Muestra los datos de la cuenta.\n",
        "- ingresar(cantidad): se ingresa una cantidad a la cuenta, si la cantidad introducida es negativa, no se hará nada.\n",
        "- retirar(cantidad): se retira una cantidad a la cuenta. La cuenta puede estar en números\n",
        "rojos."
      ],
      "metadata": {
        "id": "EI9FIJzFZEnA"
      }
    },
    {
      "cell_type": "code",
      "source": [
        "class Cuenta():\n",
        "    def __init__(self, persona, cantidad=0.0):\n",
        "        self.__persona = persona\n",
        "        self.__cantidad = cantidad\n",
        "\n",
        "    def set_persona(self, persona):\n",
        "        self.__persona = persona\n",
        "\n",
        "    def get_persona(self):\n",
        "        return self.__persona\n",
        "\n",
        "    def set_cantidad(self, cantidad):\n",
        "        self.__cantidad = cantidad\n",
        "\n",
        "    def get_cantidad(self):\n",
        "        return self.__cantidad\n",
        "\n",
        "    def mostrar(self):\n",
        "        return persona.mostrar() + f\"\\nCantidad: {self.__cantidad}\" #Utilizo el método mostrar de la clase Persona ya definido\n",
        "\n",
        "    def ingresar(self, cantidad):\n",
        "        if cantidad > 0:\n",
        "            self.__cantidad += cantidad\n",
        "\n",
        "    def retirar(self, cantidad):\n",
        "        self.__cantidad -= cantidad\n",
        "\n",
        "persona = Persona(\"Franco Kumichel\", 26, 49958380)\n",
        "cuenta = Cuenta(persona)\n",
        "print(cuenta.mostrar())\n",
        "cuenta.ingresar(100.0)\n",
        "print(cuenta.mostrar())\n",
        "cuenta.retirar(50.0)\n",
        "print(cuenta.mostrar())"
      ],
      "metadata": {
        "colab": {
          "base_uri": "https://localhost:8080/"
        },
        "id": "d--iXGJjZ8pR",
        "outputId": "7f373a7a-a1c0-4c54-e7ec-14b04c017b83"
      },
      "execution_count": 6,
      "outputs": [
        {
          "output_type": "stream",
          "name": "stdout",
          "text": [
            "Nombre: Franco Kumichel\n",
            "Edad: 26\n",
            "DNI: 49958380\n",
            "Cantidad: 0.0\n",
            "Nombre: Franco Kumichel\n",
            "Edad: 26\n",
            "DNI: 49958380\n",
            "Cantidad: 100.0\n",
            "Nombre: Franco Kumichel\n",
            "Edad: 26\n",
            "DNI: 49958380\n",
            "Cantidad: 50.0\n"
          ]
        }
      ]
    },
    {
      "cell_type": "markdown",
      "source": [
        "###Ejercicio 8\n",
        "\n",
        "Vamos a definir ahora una “Cuenta Joven”, para ello vamos a crear una nueva clase CuentaJoven que deriva de la clase creada en el punto 7. Cuando se crea esta nueva clase, además del titular y la cantidad se debe guardar una bonificación que estará expresada en tanto por ciento. Crear los siguientes métodos para la clase:\n",
        "- Un constructor.\n",
        "- Los setters y getters para el nuevo atributo.\n",
        "- En esta ocasión los titulares de este tipo de cuenta tienen que ser mayor de edad, por lo tanto hay que crear un método es_titular_valido() que devuelve verdadero si el titular es mayor de edad pero menor de 25 años y falso en caso contrario.\n",
        "- Además, la retirada de dinero sólo se podrá hacer si el titular es válido.\n",
        "- El método mostrar() debe devolver el mensaje de “Cuenta Joven” y la bonificación de la cuenta."
      ],
      "metadata": {
        "id": "q6UmF7u9X8Cr"
      }
    },
    {
      "cell_type": "code",
      "source": [
        "class CuentaJoven(Cuenta):\n",
        "    def __init__(self, persona, cantidad=0.0, bonificacion=0):\n",
        "        super().__init__(persona, cantidad)\n",
        "        self.__bonificacion = bonificacion\n",
        "\n",
        "    def set_bonificacion(self, bonificacion):\n",
        "        self.__bonificacion = bonificacion\n",
        "\n",
        "    def get_bonificacion(self):\n",
        "        return self.__bonificacion\n",
        "\n",
        "    def es_titular_valido(self):\n",
        "        return self.__persona.edad >= 18 & self.__persona.edad < 25\n",
        "\n",
        "    def retirar(self, cantidad):\n",
        "        if self.es_titular_valido():\n",
        "            super().retirar()\n",
        "\n",
        "    def mostrar(self):\n",
        "        return f\"Cuenta Joven, Bonificación: {self.__bonificacion}\"\n",
        "\n",
        "persona = Persona(\"Franco Kumichel\", 26, 49958380)\n",
        "cuenta = CuentaJoven(persona, 300.0, 10)\n",
        "print(cuenta.mostrar())\n",
        "\n"
      ],
      "metadata": {
        "colab": {
          "base_uri": "https://localhost:8080/"
        },
        "id": "pbMpvycLYOZp",
        "outputId": "b17781b5-3938-4a23-e4f8-1dc51dee7669"
      },
      "execution_count": 9,
      "outputs": [
        {
          "output_type": "stream",
          "name": "stdout",
          "text": [
            "Cuenta Joven, Bonificación: 10\n"
          ]
        }
      ]
    }
  ]
}